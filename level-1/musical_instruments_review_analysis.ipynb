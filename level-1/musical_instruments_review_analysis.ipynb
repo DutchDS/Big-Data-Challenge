{
  "nbformat": 4,
  "nbformat_minor": 0,
  "metadata": {
    "colab": {
      "name": "musical_instruments_review_analysis.ipynb",
      "provenance": [],
      "collapsed_sections": []
    },
    "kernelspec": {
      "display_name": "Python 3",
      "language": "python",
      "name": "python3"
    },
    "language_info": {
      "codemirror_mode": {
        "name": "ipython",
        "version": 3
      },
      "file_extension": ".py",
      "mimetype": "text/x-python",
      "name": "python",
      "nbconvert_exporter": "python",
      "pygments_lexer": "ipython3",
      "version": "3.7.4"
    },
    "latex_envs": {
      "LaTeX_envs_menu_present": true,
      "autoclose": false,
      "autocomplete": true,
      "bibliofile": "biblio.bib",
      "cite_by": "apalike",
      "current_citInitial": 1,
      "eqLabelWithNumbers": true,
      "eqNumInitial": 1,
      "hotkeys": {
        "equation": "Ctrl-E",
        "itemize": "Ctrl-I"
      },
      "labels_anchors": false,
      "latex_user_defs": false,
      "report_style_numbering": false,
      "user_envs_cfg": false
    }
  },
  "cells": [
    {
      "cell_type": "code",
      "metadata": {
        "colab_type": "code",
        "id": "5WosHdRWdmpw",
        "colab": {}
      },
      "source": [
        "# Install Java, Spark, and Findspark\n",
        "!apt-get install openjdk-8-jdk-headless -qq > /dev/null\n",
        "!wget -q http://www-us.apache.org/dist/spark/spark-2.4.5/spark-2.4.5-bin-hadoop2.7.tgz\n",
        "!tar xf spark-2.4.5-bin-hadoop2.7.tgz\n",
        "!pip install -q findspark\n",
        "\n",
        "# Set Environment Variables\n",
        "import os\n",
        "os.environ[\"JAVA_HOME\"] = \"/usr/lib/jvm/java-8-openjdk-amd64\"\n",
        "os.environ[\"SPARK_HOME\"] = \"/content/spark-2.4.5-bin-hadoop2.7\"\n",
        "\n",
        "# Start a SparkSession\n",
        "import findspark\n",
        "findspark.init()"
      ],
      "execution_count": 0,
      "outputs": []
    },
    {
      "cell_type": "code",
      "metadata": {
        "colab_type": "code",
        "id": "xISV-9eR6Yah",
        "outputId": "7f002671-5d02-422e-c28b-a6e0cdb681e5",
        "colab": {
          "base_uri": "https://localhost:8080/",
          "height": 210
        }
      },
      "source": [
        "!wget https://jdbc.postgresql.org/download/postgresql-42.2.9.jar"
      ],
      "execution_count": 2,
      "outputs": [
        {
          "output_type": "stream",
          "text": [
            "--2020-03-30 20:19:18--  https://jdbc.postgresql.org/download/postgresql-42.2.9.jar\n",
            "Resolving jdbc.postgresql.org (jdbc.postgresql.org)... 72.32.157.228, 2001:4800:3e1:1::228\n",
            "Connecting to jdbc.postgresql.org (jdbc.postgresql.org)|72.32.157.228|:443... connected.\n",
            "HTTP request sent, awaiting response... 200 OK\n",
            "Length: 914037 (893K) [application/java-archive]\n",
            "Saving to: ‘postgresql-42.2.9.jar’\n",
            "\n",
            "postgresql-42.2.9.j 100%[===================>] 892.61K   435KB/s    in 2.1s    \n",
            "\n",
            "2020-03-30 20:19:21 (435 KB/s) - ‘postgresql-42.2.9.jar’ saved [914037/914037]\n",
            "\n"
          ],
          "name": "stdout"
        }
      ]
    },
    {
      "cell_type": "code",
      "metadata": {
        "colab_type": "code",
        "id": "aEQFTWiV6g2h",
        "colab": {}
      },
      "source": [
        "from pyspark.sql import SparkSession\n",
        "spark = SparkSession.builder.appName(\"Homework_week_22b\").config(\"spark.driver.extraClassPath\",\"/content/postgresql-42.2.9.jar\").getOrCreate()"
      ],
      "execution_count": 0,
      "outputs": []
    },
    {
      "cell_type": "code",
      "metadata": {
        "colab_type": "code",
        "id": "qik6uGSV9BWa",
        "outputId": "9c1b1c18-bda7-4744-8150-d2b1d7bff007",
        "colab": {
          "base_uri": "https://localhost:8080/",
          "height": 512
        }
      },
      "source": [
        "# Read in data from S3 Buckets\n",
        "from pyspark import SparkFiles\n",
        "# url=\"https://s3.amazonaws.com/amazon-reviews-pds/tsv/amazon_reviews_us_Pet_Products_v1_00.tsv.gz\"\n",
        "url=\"https://s3.amazonaws.com/amazon-reviews-pds/tsv/amazon_reviews_us_Musical_Instruments_v1_00.tsv.gz\"\n",
        "spark.sparkContext.addFile(url)\n",
        "\n",
        "user_data_df = spark.read.csv(SparkFiles.get(\"amazon_reviews_us_Musical_Instruments_v1_00.tsv.gz\"), sep='\\t', header=True)\n",
        "\n",
        "# Show DataFrame\n",
        "user_data_df.show()\n",
        "user_data_df.count()"
      ],
      "execution_count": 4,
      "outputs": [
        {
          "output_type": "stream",
          "text": [
            "+-----------+-----------+--------------+----------+--------------+--------------------+-------------------+-----------+-------------+-----------+----+-----------------+--------------------+--------------------+-----------+\n",
            "|marketplace|customer_id|     review_id|product_id|product_parent|       product_title|   product_category|star_rating|helpful_votes|total_votes|vine|verified_purchase|     review_headline|         review_body|review_date|\n",
            "+-----------+-----------+--------------+----------+--------------+--------------------+-------------------+-----------+-------------+-----------+----+-----------------+--------------------+--------------------+-----------+\n",
            "|         US|   45610553| RMDCHWD0Y5OZ9|B00HH62VB6|     618218723|AGPtek® 10 Isolat...|Musical Instruments|          3|            0|          1|   N|                N|         Three Stars|Works very good, ...| 2015-08-31|\n",
            "|         US|   14640079| RZSL0BALIYUNU|B003LRN53I|     986692292|Sennheiser HD203 ...|Musical Instruments|          5|            0|          0|   N|                Y|          Five Stars|Nice headphones a...| 2015-08-31|\n",
            "|         US|    6111003| RIZR67JKUDBI0|B0006VMBHI|     603261968|AudioQuest LP rec...|Musical Instruments|          3|            0|          1|   N|                Y|         Three Stars|removes dust. doe...| 2015-08-31|\n",
            "|         US|    1546619|R27HL570VNL85F|B002B55TRG|     575084461|Hohner Inc. 560BX...|Musical Instruments|          5|            0|          0|   N|                Y|I purchase these ...|I purchase these ...| 2015-08-31|\n",
            "|         US|   12222213|R34EBU9QDWJ1GD|B00N1YPXW2|     165236328|Blue Yeti USB Mic...|Musical Instruments|          5|            0|          0|   N|                Y|          Five Stars|This is an awesom...| 2015-08-31|\n",
            "|         US|   46018513|R1WCUI4Z1SIQEO|B001N4GRGS|     134151483|Middle Atlantic P...|Musical Instruments|          5|            0|          0|   N|                N|          Five Stars|Used to cool equi...| 2015-08-31|\n",
            "|         US|   10225065| RL5LNO26GAVJ1|B009PJRMHQ|     694166585|Kmise 1pc Pickgua...|Musical Instruments|          2|            3|          4|   N|                Y|Will not Fit Epip...|Note- Does not Fi...| 2015-08-31|\n",
            "|         US|    6356995|R3GYQ5W8JHP8SB|B00NKBDAZS|     446431775|Kealoha Concert U...|Musical Instruments|          5|            0|          0|   N|                Y|          Five Stars|Well built Ukulel...| 2015-08-31|\n",
            "|         US|   35297198|R30SHYQXGG5EYC|B006MIU7U2|     125871705|Halco 80000 - MR1...|Musical Instruments|          5|            0|          0|   N|                Y|Works fine. Hope ...|Had to replace a ...| 2015-08-31|\n",
            "|         US|   32139520|R14YLXA56NP51I|B000FIBD0I|     771888534|Gator GPTBLACK Pl...|Musical Instruments|          5|            1|          1|   N|                N|I upgraded the po...|I've owned multip...| 2015-08-31|\n",
            "|         US|   36060782|R1ZH0HSH38IOTZ|B0002E52GG|      68535945|Hetman 1 - Light ...|Musical Instruments|          5|            0|          0|   N|                Y|My son's favourit...|Consistent qualit...| 2015-08-31|\n",
            "|         US|    5301309|R3H53KLLC210XI|B00RZIH52G|     725541773|Dragonpad pop fil...|Musical Instruments|          4|            0|          0|   N|                Y|Great pop filter ...|by far the best p...| 2015-08-31|\n",
            "|         US|   37472935|R3OOR877NGA8JK|B001792BAU|      46570323|DharmaObjects Rel...|Musical Instruments|          3|            0|          0|   N|                Y|                  Ok|Beautiful set. On...| 2015-08-31|\n",
            "|         US|   33578270|R1BY7WKOZ3KMH0|B009GSKW1Y|     547963417|Musiclily SSS Pla...|Musical Instruments|          2|            0|          0|   N|                Y|           Two Stars|Bridge pickup was...| 2015-08-31|\n",
            "|         US|   22070226| RXP1TFSWE8EG9|B0002F4TKA|     436074323|Vic Firth America...|Musical Instruments|          5|            0|          0|   N|                Y|          Five Stars|Feels good and la...| 2015-08-31|\n",
            "|         US|   52862655|R3J44DPP12OTLJ|B00K17YFBW|      81933093|Guitar Stand for ...|Musical Instruments|          5|            0|          0|   N|                Y|Great stand... on...|I love the stand....| 2015-08-31|\n",
            "|         US|    4427243| RFOV69SK0T676|B00EQ24HJS|     669249276|Generic 3PLY Faux...|Musical Instruments|          5|            0|          0|   N|                Y|Looks great. You ...|On time. Looks gr...| 2015-08-31|\n",
            "|         US|   14108571|R2HUWDNW62FOL3|B00IBOYTUE|     749537231|Audio 2000 6525 3...|Musical Instruments|          1|            0|          0|   N|                Y|  Poor sound quality|I was hoping it w...| 2015-08-31|\n",
            "|         US|   27314089|R1KSU30XZGR452|B00FBRUSAE|     792472601|Sawtooth ST-AMP-1...|Musical Instruments|          5|            0|          0|   N|                Y|Perfect for the b...|Good sound for it...| 2015-08-31|\n",
            "|         US|   16735445|R2TZVLLTSHA07N|B0113D2QUO|     269114019|Upado Unlimited G...|Musical Instruments|          5|            1|          1|   N|                Y|It really is a mu...|Wow! I didn't exp...| 2015-08-31|\n",
            "+-----------+-----------+--------------+----------+--------------+--------------------+-------------------+-----------+-------------+-----------+----+-----------------+--------------------+--------------------+-----------+\n",
            "only showing top 20 rows\n",
            "\n"
          ],
          "name": "stdout"
        },
        {
          "output_type": "execute_result",
          "data": {
            "text/plain": [
              "904765"
            ]
          },
          "metadata": {
            "tags": []
          },
          "execution_count": 4
        }
      ]
    },
    {
      "cell_type": "code",
      "metadata": {
        "colab_type": "code",
        "id": "rtDndjrdlh83",
        "outputId": "15af6893-5406-44f0-bd79-2fbeea75ac3e",
        "colab": {
          "base_uri": "https://localhost:8080/",
          "height": 34
        }
      },
      "source": [
        "# Drop null values\n",
        "user_data_df = user_data_df.dropna()\n",
        "user_data_df.count()"
      ],
      "execution_count": 5,
      "outputs": [
        {
          "output_type": "execute_result",
          "data": {
            "text/plain": [
              "904663"
            ]
          },
          "metadata": {
            "tags": []
          },
          "execution_count": 5
        }
      ]
    },
    {
      "cell_type": "code",
      "metadata": {
        "colab_type": "code",
        "id": "bjEBAydllvCg",
        "outputId": "da146e00-6c14-47e6-f62d-d69a5e28332f",
        "colab": {
          "base_uri": "https://localhost:8080/",
          "height": 512
        }
      },
      "source": [
        "# Load in a sql function to use columns\n",
        "from pyspark.sql.functions import col\n",
        "\n",
        "# Filter for only columns with active users\n",
        "cleaned_df = user_data_df.filter(col(\"verified_purchase\")  == \"Y\")\n",
        "cleaned_df = cleaned_df.filter(col(\"helpful_votes\")  > 0)\n",
        "cleaned_df = cleaned_df.filter(col(\"total_votes\")  > 5)\n",
        "print(\"Total Number of Musical Instrument Reviews to be analyzed: \", cleaned_df.count())\n",
        "cleaned_df.show()"
      ],
      "execution_count": 6,
      "outputs": [
        {
          "output_type": "stream",
          "text": [
            "Total Number of Musical Instrument Reviews to be analyzed:  55314\n",
            "+-----------+-----------+--------------+----------+--------------+--------------------+-------------------+-----------+-------------+-----------+----+-----------------+--------------------+--------------------+-----------+\n",
            "|marketplace|customer_id|     review_id|product_id|product_parent|       product_title|   product_category|star_rating|helpful_votes|total_votes|vine|verified_purchase|     review_headline|         review_body|review_date|\n",
            "+-----------+-----------+--------------+----------+--------------+--------------------+-------------------+-----------+-------------+-----------+----+-----------------+--------------------+--------------------+-----------+\n",
            "|         US|   21380993| RPZHAM1T3RMDU|B005EHILV4|     820471122|BEHRINGER XENYX 3...|Musical Instruments|          5|            6|          7|   N|                Y|  Great Little Mixer|Great little mixe...| 2015-08-31|\n",
            "|         US|   28770559|R2TGT0CDTCAAHW|B00INJ7HBK|     157027184|Singing Machine I...|Musical Instruments|          5|           21|         23|   N|                Y|   excellent product|Kids love it! It'...| 2015-08-31|\n",
            "|         US|    7452185|R12DGW3G8CPCCF|B00DJZ1OK8|     445844821|Merano B Flat Bla...|Musical Instruments|          1|            4|         15|   N|                Y|                Opps|The company accid...| 2015-08-31|\n",
            "|         US|   32672319|R2WDZPS4FXEYKW|B00D2TZKIS|     517123763|Crank Up Triangle...|Musical Instruments|          5|            6|          6|   N|                Y|I have been djing...|I have been djing...| 2015-08-31|\n",
            "|         US|   34464133|R1H3ZFTQT3TMEN|B00GRPIUEU|     169966819|CELESTION Ten 30 ...|Musical Instruments|          4|            4|          6|   N|                Y|Great replacement...|Great upgrade/rep...| 2015-08-31|\n",
            "|         US|   42085622|R3B9PY8CO0U86Q|B00U1XK5Z6|     930307093|Technics Needle G...|Musical Instruments|          5|            6|          8|   N|                Y|Easier than a pro...|It's an alignment...| 2015-08-31|\n",
            "|         US|   13996084| RUT7B85ZA1UTZ|B002AKKO72|     656698662|Oscar Schmidt OM1...|Musical Instruments|          5|            8|          9|   N|                Y|Great beginners m...|Great beginners m...| 2015-08-31|\n",
            "|         US|   51726804|R1Z8J425HTLRRP|B004HZGR5Q|     701464811|Acoustic Guitar 4...|Musical Instruments|          5|            7|          7|   N|                Y|Good beginner ins...|This is a perfect...| 2015-08-31|\n",
            "|         US|   38173315|R1P8HZW25TLBOL|B00MIXFBKG|      21180708|      Tascam DR-22WL|Musical Instruments|          1|           12|         14|   N|                Y|Tascam customer s...|Tascam customer s...| 2015-08-31|\n",
            "|         US|   14780931|R29TWRL81U84PR|B001LG7TUG|     507028013|Aulos Classroom R...|Musical Instruments|          5|           17|         19|   N|                Y|Best Plastic Sopr...|This is one of th...| 2015-08-31|\n",
            "|         US|   51193249| RXTWUZLXBYA3R|B00VYJJ1YM|     124812654|HUACAM YYPJ-02 Co...|Musical Instruments|          1|            6|          7|   N|                Y|Headset Does not ...|The headsets I re...| 2015-08-31|\n",
            "|         US|   12573285|R2ENV9NT1PLDY3|B00QLWZMVS|     804312692|BEHRINGER ULTRATO...|Musical Instruments|          5|           17|         18|   N|                Y|Amp Is Solidly Bu...|just received thi...| 2015-08-31|\n",
            "|         US|   14855294|R39QE4FJRDTRPI|B00NHQB0LM|     817867538|Store Indya Flute...|Musical Instruments|          1|            5|          6|   N|                Y|Awful... Simply A...|When I received t...| 2015-08-31|\n",
            "|         US|   12463088| RSBW5TMM9HTX7|B00N1YPXW2|     165236328|Blue Yeti USB Mic...|Musical Instruments|          3|           16|         18|   N|                Y|Great Product -- ...|The mic itself is...| 2015-08-31|\n",
            "|         US|   35225823| RX4D22YSXEF4P|B009EK8PUY|     166820090|Akai Front Load C...|Musical Instruments|          1|           37|         38|   N|                Y|All the reviews t...|All the reviews t...| 2015-08-31|\n",
            "|         US|   37562581|R357IHVBSA3XOU|B00OKXDUZU|     544854216|BugsGear Ukulele ...|Musical Instruments|          5|            7|          8|   N|                Y|The BugsGear has ...|I own 6 plastic U...| 2015-08-31|\n",
            "|         US|   19271441| RWU7SUQC0K8HS|B00WUKE4LE|     948235261|Pro Studio Acoust...|Musical Instruments|          3|            4|          7|   N|                Y|Less dense and fe...|Noticeably lighte...| 2015-08-31|\n",
            "|         US|   41693850|R17QO7W92AO736|B00LU8K790|     693770111|TASCAM DR-05 Port...|Musical Instruments|          5|           17|         17|   N|                Y|A surprisingly ve...|Exceeded expectat...| 2015-08-31|\n",
            "|         US|   39387962|R1YLU642BY8RMR|B00NW1IZ5Q|     923510791|Doppler Labs Dubs...|Musical Instruments|          5|            4|          6|   N|                Y|            2nd pair|I just ordered my...| 2015-08-31|\n",
            "|         US|     326437|R2C4I66DTFE6H2|B00QPFVD1O|     591918220|Singing Machine S...|Musical Instruments|          5|            6|         18|   N|                Y|          Five Stars|  It was as expected| 2015-08-31|\n",
            "+-----------+-----------+--------------+----------+--------------+--------------------+-------------------+-----------+-------------+-----------+----+-----------------+--------------------+--------------------+-----------+\n",
            "only showing top 20 rows\n",
            "\n"
          ],
          "name": "stdout"
        }
      ]
    },
    {
      "cell_type": "code",
      "metadata": {
        "colab_type": "code",
        "id": "qVzKY3EjmUoj",
        "outputId": "c4c26dec-dda1-4f27-a5e7-3015bd7af7fb",
        "colab": {
          "base_uri": "https://localhost:8080/",
          "height": 492
        }
      },
      "source": [
        "# Create user dataframe to find count of reviews per customer (for table Customers )\n",
        "df_customers = cleaned_df.groupby('customer_id').agg({'review_id': 'count'})\n",
        "df_customers = df_customers.withColumnRenamed('count(review_id)','customer_count')\n",
        "print(\"Total number of Customers: \", df_customers.count())\n",
        "df_customers.show()"
      ],
      "execution_count": 7,
      "outputs": [
        {
          "output_type": "stream",
          "text": [
            "Total number of Customers:  49196\n",
            "+-----------+--------------+\n",
            "|customer_id|customer_count|\n",
            "+-----------+--------------+\n",
            "|   39705765|             1|\n",
            "|   45365471|             1|\n",
            "|   51653295|             1|\n",
            "|   51798805|             1|\n",
            "|   18925624|             1|\n",
            "|   15583348|             1|\n",
            "|   51068983|             1|\n",
            "|   14824990|             1|\n",
            "|   37030588|             1|\n",
            "|   45873136|             1|\n",
            "|   14784362|             2|\n",
            "|   13938576|             1|\n",
            "|   28199550|             1|\n",
            "|   50973182|             1|\n",
            "|   12374662|             1|\n",
            "|   13931753|             1|\n",
            "|   12894296|             1|\n",
            "|   43331905|             1|\n",
            "|   12193166|             1|\n",
            "|   36232236|             1|\n",
            "+-----------+--------------+\n",
            "only showing top 20 rows\n",
            "\n"
          ],
          "name": "stdout"
        }
      ]
    },
    {
      "cell_type": "code",
      "metadata": {
        "id": "H7luYuamgElN",
        "colab_type": "code",
        "outputId": "35be35d3-5729-4678-d0d1-d317f28851f1",
        "colab": {
          "base_uri": "https://localhost:8080/",
          "height": 34
        }
      },
      "source": [
        "df_customers = df_customers.selectExpr(\"cast(customer_id as int) customer_id\",\"cast(customer_count as int) customer_count\")\n",
        "df_customers.dtypes"
      ],
      "execution_count": 8,
      "outputs": [
        {
          "output_type": "execute_result",
          "data": {
            "text/plain": [
              "[('customer_id', 'int'), ('customer_count', 'int')]"
            ]
          },
          "metadata": {
            "tags": []
          },
          "execution_count": 8
        }
      ]
    },
    {
      "cell_type": "code",
      "metadata": {
        "colab_type": "code",
        "id": "K6mUzCILmj9X",
        "outputId": "8ce8c633-833f-4376-be34-a8e6ff275ee6",
        "colab": {
          "base_uri": "https://localhost:8080/",
          "height": 492
        }
      },
      "source": [
        "# Create user dataframe to store product Information\n",
        "df_products = cleaned_df.select(['Product_ID','product_title','product_category']).distinct()\n",
        "print(\"Total number of Products: \", df_products.count())\n",
        "df_products.show()"
      ],
      "execution_count": 9,
      "outputs": [
        {
          "output_type": "stream",
          "text": [
            "Total number of Products:  20300\n",
            "+----------+--------------------+-------------------+\n",
            "|Product_ID|       product_title|   product_category|\n",
            "+----------+--------------------+-------------------+\n",
            "|B00HVLUQW8|Audio-Technica AT...|Musical Instruments|\n",
            "|B00EOYKGH0|Cecilio CVN-300 S...|Musical Instruments|\n",
            "|B00ZY33B40|Zoom TAC-2R Two-c...|Musical Instruments|\n",
            "|B007R0ORR8|Suzuki Musical In...|Musical Instruments|\n",
            "|B00DJ66G3W|Yamaha 61-Key Por...|Musical Instruments|\n",
            "|B000G3FNVM|Numark TTUSB | 33...|Musical Instruments|\n",
            "|B00PRTXKVA|Crescent 4/4 Begi...|Musical Instruments|\n",
            "|B000V6GB24|K & M Mic stand w...|Musical Instruments|\n",
            "|B00OLAJ6YQ|Glory Closed Hole...|Musical Instruments|\n",
            "|B00OLAJ3W6|Glory Closed Hole...|Musical Instruments|\n",
            "|B00I4IPDUW|Yamaha Electronic...|Musical Instruments|\n",
            "|B000NE3JZ6|D'Addario Kaplan ...|Musical Instruments|\n",
            "|B00B2WZ8MK|MUSYSIC Professio...|Musical Instruments|\n",
            "|B00466HM28|Akai Professional...|Musical Instruments|\n",
            "|B0002CZUTM|Epiphone LP-100 L...|Musical Instruments|\n",
            "|B00H4973IC|  432 hZ Tuning Fork|Musical Instruments|\n",
            "|B003VOPVLA|Offworld Percussi...|Musical Instruments|\n",
            "|B00E20U2HU|Gretsch Drums NC1...|Musical Instruments|\n",
            "|B00GWH0K00|Gibson USA Standa...|Musical Instruments|\n",
            "|B000U2G6VA|JBL Control 1 Pro...|Musical Instruments|\n",
            "+----------+--------------------+-------------------+\n",
            "only showing top 20 rows\n",
            "\n"
          ],
          "name": "stdout"
        }
      ]
    },
    {
      "cell_type": "code",
      "metadata": {
        "id": "Ow-WOOIJlwej",
        "colab_type": "code",
        "outputId": "ccdea501-b326-42e7-e9d2-5fa2a94673b2",
        "colab": {
          "base_uri": "https://localhost:8080/",
          "height": 70
        }
      },
      "source": [
        "df_products.dtypes"
      ],
      "execution_count": 10,
      "outputs": [
        {
          "output_type": "execute_result",
          "data": {
            "text/plain": [
              "[('Product_ID', 'string'),\n",
              " ('product_title', 'string'),\n",
              " ('product_category', 'string')]"
            ]
          },
          "metadata": {
            "tags": []
          },
          "execution_count": 10
        }
      ]
    },
    {
      "cell_type": "code",
      "metadata": {
        "colab_type": "code",
        "id": "wVcL8Ub7mmaY",
        "outputId": "5826196a-b1ef-4bce-cf75-c77082bb372d",
        "colab": {
          "base_uri": "https://localhost:8080/",
          "height": 492
        }
      },
      "source": [
        "# Create user dataframe for review_id_table\n",
        "df_review_id_table = cleaned_df.select([\"review_id\", \"customer_id\",\"product_id\",\"product_parent\",\"review_date\"])\n",
        "print(\"Total number of Reviews: \", df_review_id_table.count())\n",
        "df_review_id_table.show()"
      ],
      "execution_count": 11,
      "outputs": [
        {
          "output_type": "stream",
          "text": [
            "Total number of Reviews:  55314\n",
            "+--------------+-----------+----------+--------------+-----------+\n",
            "|     review_id|customer_id|product_id|product_parent|review_date|\n",
            "+--------------+-----------+----------+--------------+-----------+\n",
            "| RPZHAM1T3RMDU|   21380993|B005EHILV4|     820471122| 2015-08-31|\n",
            "|R2TGT0CDTCAAHW|   28770559|B00INJ7HBK|     157027184| 2015-08-31|\n",
            "|R12DGW3G8CPCCF|    7452185|B00DJZ1OK8|     445844821| 2015-08-31|\n",
            "|R2WDZPS4FXEYKW|   32672319|B00D2TZKIS|     517123763| 2015-08-31|\n",
            "|R1H3ZFTQT3TMEN|   34464133|B00GRPIUEU|     169966819| 2015-08-31|\n",
            "|R3B9PY8CO0U86Q|   42085622|B00U1XK5Z6|     930307093| 2015-08-31|\n",
            "| RUT7B85ZA1UTZ|   13996084|B002AKKO72|     656698662| 2015-08-31|\n",
            "|R1Z8J425HTLRRP|   51726804|B004HZGR5Q|     701464811| 2015-08-31|\n",
            "|R1P8HZW25TLBOL|   38173315|B00MIXFBKG|      21180708| 2015-08-31|\n",
            "|R29TWRL81U84PR|   14780931|B001LG7TUG|     507028013| 2015-08-31|\n",
            "| RXTWUZLXBYA3R|   51193249|B00VYJJ1YM|     124812654| 2015-08-31|\n",
            "|R2ENV9NT1PLDY3|   12573285|B00QLWZMVS|     804312692| 2015-08-31|\n",
            "|R39QE4FJRDTRPI|   14855294|B00NHQB0LM|     817867538| 2015-08-31|\n",
            "| RSBW5TMM9HTX7|   12463088|B00N1YPXW2|     165236328| 2015-08-31|\n",
            "| RX4D22YSXEF4P|   35225823|B009EK8PUY|     166820090| 2015-08-31|\n",
            "|R357IHVBSA3XOU|   37562581|B00OKXDUZU|     544854216| 2015-08-31|\n",
            "| RWU7SUQC0K8HS|   19271441|B00WUKE4LE|     948235261| 2015-08-31|\n",
            "|R17QO7W92AO736|   41693850|B00LU8K790|     693770111| 2015-08-31|\n",
            "|R1YLU642BY8RMR|   39387962|B00NW1IZ5Q|     923510791| 2015-08-31|\n",
            "|R2C4I66DTFE6H2|     326437|B00QPFVD1O|     591918220| 2015-08-31|\n",
            "+--------------+-----------+----------+--------------+-----------+\n",
            "only showing top 20 rows\n",
            "\n"
          ],
          "name": "stdout"
        }
      ]
    },
    {
      "cell_type": "code",
      "metadata": {
        "id": "g-lz_l8Wy63L",
        "colab_type": "code",
        "outputId": "24d9d59a-1931-46fd-d93b-130d47d78e86",
        "colab": {
          "base_uri": "https://localhost:8080/",
          "height": 105
        }
      },
      "source": [
        "df_review_id_table = df_review_id_table.selectExpr(\"cast(review_id as string) review_id\",\"cast(customer_id as int) customer_id\",\"cast(product_id as string) product_id\",\"cast(product_parent as int) product_parent\",\"cast(review_date as date) review_date\")\n",
        "df_review_id_table.dtypes"
      ],
      "execution_count": 12,
      "outputs": [
        {
          "output_type": "execute_result",
          "data": {
            "text/plain": [
              "[('review_id', 'string'),\n",
              " ('customer_id', 'int'),\n",
              " ('product_id', 'string'),\n",
              " ('product_parent', 'int'),\n",
              " ('review_date', 'date')]"
            ]
          },
          "metadata": {
            "tags": []
          },
          "execution_count": 12
        }
      ]
    },
    {
      "cell_type": "code",
      "metadata": {
        "id": "FEtfqh180VkS",
        "colab_type": "code",
        "outputId": "fb57d9f4-1aec-4082-c034-7c831420bd0f",
        "colab": {
          "base_uri": "https://localhost:8080/",
          "height": 474
        }
      },
      "source": [
        "df_review_id_table.show()"
      ],
      "execution_count": 13,
      "outputs": [
        {
          "output_type": "stream",
          "text": [
            "+--------------+-----------+----------+--------------+-----------+\n",
            "|     review_id|customer_id|product_id|product_parent|review_date|\n",
            "+--------------+-----------+----------+--------------+-----------+\n",
            "| RPZHAM1T3RMDU|   21380993|B005EHILV4|     820471122| 2015-08-31|\n",
            "|R2TGT0CDTCAAHW|   28770559|B00INJ7HBK|     157027184| 2015-08-31|\n",
            "|R12DGW3G8CPCCF|    7452185|B00DJZ1OK8|     445844821| 2015-08-31|\n",
            "|R2WDZPS4FXEYKW|   32672319|B00D2TZKIS|     517123763| 2015-08-31|\n",
            "|R1H3ZFTQT3TMEN|   34464133|B00GRPIUEU|     169966819| 2015-08-31|\n",
            "|R3B9PY8CO0U86Q|   42085622|B00U1XK5Z6|     930307093| 2015-08-31|\n",
            "| RUT7B85ZA1UTZ|   13996084|B002AKKO72|     656698662| 2015-08-31|\n",
            "|R1Z8J425HTLRRP|   51726804|B004HZGR5Q|     701464811| 2015-08-31|\n",
            "|R1P8HZW25TLBOL|   38173315|B00MIXFBKG|      21180708| 2015-08-31|\n",
            "|R29TWRL81U84PR|   14780931|B001LG7TUG|     507028013| 2015-08-31|\n",
            "| RXTWUZLXBYA3R|   51193249|B00VYJJ1YM|     124812654| 2015-08-31|\n",
            "|R2ENV9NT1PLDY3|   12573285|B00QLWZMVS|     804312692| 2015-08-31|\n",
            "|R39QE4FJRDTRPI|   14855294|B00NHQB0LM|     817867538| 2015-08-31|\n",
            "| RSBW5TMM9HTX7|   12463088|B00N1YPXW2|     165236328| 2015-08-31|\n",
            "| RX4D22YSXEF4P|   35225823|B009EK8PUY|     166820090| 2015-08-31|\n",
            "|R357IHVBSA3XOU|   37562581|B00OKXDUZU|     544854216| 2015-08-31|\n",
            "| RWU7SUQC0K8HS|   19271441|B00WUKE4LE|     948235261| 2015-08-31|\n",
            "|R17QO7W92AO736|   41693850|B00LU8K790|     693770111| 2015-08-31|\n",
            "|R1YLU642BY8RMR|   39387962|B00NW1IZ5Q|     923510791| 2015-08-31|\n",
            "|R2C4I66DTFE6H2|     326437|B00QPFVD1O|     591918220| 2015-08-31|\n",
            "+--------------+-----------+----------+--------------+-----------+\n",
            "only showing top 20 rows\n",
            "\n"
          ],
          "name": "stdout"
        }
      ]
    },
    {
      "cell_type": "code",
      "metadata": {
        "id": "EV5OvfYHc9A4",
        "colab_type": "code",
        "outputId": "6ed37519-80b6-4c55-b3d5-6b5e4cb3d97b",
        "colab": {
          "base_uri": "https://localhost:8080/",
          "height": 492
        }
      },
      "source": [
        "# Create user dataframe for review_id_table\n",
        "df_vine_table = cleaned_df.select([\"review_id\", \"star_rating\",\"helpful_votes\",\"total_votes\",\"vine\"])\n",
        "print(\"Total number of Vine Records: \", df_vine_table.count())\n",
        "df_vine_table.show()"
      ],
      "execution_count": 14,
      "outputs": [
        {
          "output_type": "stream",
          "text": [
            "Total number of Vine Records:  55314\n",
            "+--------------+-----------+-------------+-----------+----+\n",
            "|     review_id|star_rating|helpful_votes|total_votes|vine|\n",
            "+--------------+-----------+-------------+-----------+----+\n",
            "| RPZHAM1T3RMDU|          5|            6|          7|   N|\n",
            "|R2TGT0CDTCAAHW|          5|           21|         23|   N|\n",
            "|R12DGW3G8CPCCF|          1|            4|         15|   N|\n",
            "|R2WDZPS4FXEYKW|          5|            6|          6|   N|\n",
            "|R1H3ZFTQT3TMEN|          4|            4|          6|   N|\n",
            "|R3B9PY8CO0U86Q|          5|            6|          8|   N|\n",
            "| RUT7B85ZA1UTZ|          5|            8|          9|   N|\n",
            "|R1Z8J425HTLRRP|          5|            7|          7|   N|\n",
            "|R1P8HZW25TLBOL|          1|           12|         14|   N|\n",
            "|R29TWRL81U84PR|          5|           17|         19|   N|\n",
            "| RXTWUZLXBYA3R|          1|            6|          7|   N|\n",
            "|R2ENV9NT1PLDY3|          5|           17|         18|   N|\n",
            "|R39QE4FJRDTRPI|          1|            5|          6|   N|\n",
            "| RSBW5TMM9HTX7|          3|           16|         18|   N|\n",
            "| RX4D22YSXEF4P|          1|           37|         38|   N|\n",
            "|R357IHVBSA3XOU|          5|            7|          8|   N|\n",
            "| RWU7SUQC0K8HS|          3|            4|          7|   N|\n",
            "|R17QO7W92AO736|          5|           17|         17|   N|\n",
            "|R1YLU642BY8RMR|          5|            4|          6|   N|\n",
            "|R2C4I66DTFE6H2|          5|            6|         18|   N|\n",
            "+--------------+-----------+-------------+-----------+----+\n",
            "only showing top 20 rows\n",
            "\n"
          ],
          "name": "stdout"
        }
      ]
    },
    {
      "cell_type": "code",
      "metadata": {
        "id": "rOQQ2fk70wd5",
        "colab_type": "code",
        "outputId": "82d97c98-415b-4c75-91e5-ef31e73a11a4",
        "colab": {
          "base_uri": "https://localhost:8080/",
          "height": 105
        }
      },
      "source": [
        "df_vine_table = df_vine_table.selectExpr(\"cast(review_id as string) review_id\",\"cast(star_rating as int) star_rating\",\"cast(helpful_votes as int) helpful_votes\",\"cast(total_votes as int) total_votes\",\"cast(vine as string) vine\")\n",
        "df_vine_table.dtypes"
      ],
      "execution_count": 15,
      "outputs": [
        {
          "output_type": "execute_result",
          "data": {
            "text/plain": [
              "[('review_id', 'string'),\n",
              " ('star_rating', 'int'),\n",
              " ('helpful_votes', 'int'),\n",
              " ('total_votes', 'int'),\n",
              " ('vine', 'string')]"
            ]
          },
          "metadata": {
            "tags": []
          },
          "execution_count": 15
        }
      ]
    },
    {
      "cell_type": "markdown",
      "metadata": {
        "colab_type": "text",
        "id": "kQgPpNnVnRwh"
      },
      "source": [
        "Postgres Setup"
      ]
    },
    {
      "cell_type": "code",
      "metadata": {
        "colab_type": "code",
        "id": "985Vl1dtmpVU",
        "colab": {}
      },
      "source": [
        "# Configure settings for RDS\n",
        "mode = \"append\"\n",
        "jdbc_url=\"jdbc:postgresql://amazon-review-avr.cn0fs69uwn5x.us-east-1.rds.amazonaws.com:5432/amazon_review_db\"\n",
        "config = {\"user\":\"root\", \n",
        "          \"password\": \"Welcome!\", \n",
        "          \"driver\":\"org.postgresql.Driver\"}\n"
      ],
      "execution_count": 0,
      "outputs": []
    },
    {
      "cell_type": "code",
      "metadata": {
        "colab_type": "code",
        "id": "9yyZgvcUnaNN",
        "colab": {}
      },
      "source": [
        "# Write DataFrame to customer table in RDS\n",
        "\n",
        "df_customers.write.jdbc(url=jdbc_url, table='customers', mode=mode, properties=config)"
      ],
      "execution_count": 0,
      "outputs": []
    },
    {
      "cell_type": "code",
      "metadata": {
        "colab_type": "code",
        "id": "8rsTf2kmna3V",
        "colab": {}
      },
      "source": [
        "# Write dataframe to products table in RDS\n",
        "\n",
        "df_products.write.jdbc(url=jdbc_url, table='products', mode=mode, properties=config)"
      ],
      "execution_count": 0,
      "outputs": []
    },
    {
      "cell_type": "code",
      "metadata": {
        "colab_type": "code",
        "id": "9q6Bm3kAncqx",
        "colab": {}
      },
      "source": [
        "# Write dataframe to review_id table in RDS\n",
        "\n",
        "df_review_id_table.write.jdbc(url=jdbc_url, table='review_id_table', mode=mode, properties=config)"
      ],
      "execution_count": 0,
      "outputs": []
    },
    {
      "cell_type": "code",
      "metadata": {
        "colab_type": "code",
        "id": "Kx3hMnlAD5FA",
        "colab": {}
      },
      "source": [
        "# Write dataframe to vine table in RDS\n",
        "\n",
        "df_vine_table.write.jdbc(url=jdbc_url, table='vine_table', mode=mode, properties=config)"
      ],
      "execution_count": 0,
      "outputs": []
    },
    {
      "cell_type": "code",
      "metadata": {
        "id": "kEA9nAAtM6I0",
        "colab_type": "code",
        "colab": {}
      },
      "source": [
        ""
      ],
      "execution_count": 0,
      "outputs": []
    }
  ]
}
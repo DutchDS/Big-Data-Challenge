{
  "nbformat": 4,
  "nbformat_minor": 0,
  "metadata": {
    "colab": {
      "name": "pet_products_review_analysis.ipynb",
      "provenance": [],
      "collapsed_sections": []
    },
    "kernelspec": {
      "display_name": "Python 3",
      "language": "python",
      "name": "python3"
    },
    "language_info": {
      "codemirror_mode": {
        "name": "ipython",
        "version": 3
      },
      "file_extension": ".py",
      "mimetype": "text/x-python",
      "name": "python",
      "nbconvert_exporter": "python",
      "pygments_lexer": "ipython3",
      "version": "3.7.4"
    },
    "latex_envs": {
      "LaTeX_envs_menu_present": true,
      "autoclose": false,
      "autocomplete": true,
      "bibliofile": "biblio.bib",
      "cite_by": "apalike",
      "current_citInitial": 1,
      "eqLabelWithNumbers": true,
      "eqNumInitial": 1,
      "hotkeys": {
        "equation": "Ctrl-E",
        "itemize": "Ctrl-I"
      },
      "labels_anchors": false,
      "latex_user_defs": false,
      "report_style_numbering": false,
      "user_envs_cfg": false
    }
  },
  "cells": [
    {
      "cell_type": "code",
      "metadata": {
        "colab_type": "code",
        "id": "5WosHdRWdmpw",
        "colab": {}
      },
      "source": [
        "# Install Java, Spark, and Findspark\n",
        "!apt-get install openjdk-8-jdk-headless -qq > /dev/null\n",
        "!wget -q http://www-us.apache.org/dist/spark/spark-2.4.5/spark-2.4.5-bin-hadoop2.7.tgz\n",
        "!tar xf spark-2.4.5-bin-hadoop2.7.tgz\n",
        "!pip install -q findspark\n",
        "\n",
        "# Set Environment Variables\n",
        "import os\n",
        "os.environ[\"JAVA_HOME\"] = \"/usr/lib/jvm/java-8-openjdk-amd64\"\n",
        "os.environ[\"SPARK_HOME\"] = \"/content/spark-2.4.5-bin-hadoop2.7\"\n",
        "\n",
        "# Start a SparkSession\n",
        "import findspark\n",
        "findspark.init()"
      ],
      "execution_count": 0,
      "outputs": []
    },
    {
      "cell_type": "code",
      "metadata": {
        "colab_type": "code",
        "id": "xISV-9eR6Yah",
        "outputId": "324d3aed-69c5-4d27-e791-78ad827245d2",
        "colab": {
          "base_uri": "https://localhost:8080/",
          "height": 210
        }
      },
      "source": [
        "!wget https://jdbc.postgresql.org/download/postgresql-42.2.9.jar"
      ],
      "execution_count": 3,
      "outputs": [
        {
          "output_type": "stream",
          "text": [
            "--2020-03-31 12:40:53--  https://jdbc.postgresql.org/download/postgresql-42.2.9.jar\n",
            "Resolving jdbc.postgresql.org (jdbc.postgresql.org)... 72.32.157.228, 2001:4800:3e1:1::228\n",
            "Connecting to jdbc.postgresql.org (jdbc.postgresql.org)|72.32.157.228|:443... connected.\n",
            "HTTP request sent, awaiting response... 200 OK\n",
            "Length: 914037 (893K) [application/java-archive]\n",
            "Saving to: ‘postgresql-42.2.9.jar’\n",
            "\n",
            "postgresql-42.2.9.j 100%[===================>] 892.61K  1.05MB/s    in 0.8s    \n",
            "\n",
            "2020-03-31 12:40:55 (1.05 MB/s) - ‘postgresql-42.2.9.jar’ saved [914037/914037]\n",
            "\n"
          ],
          "name": "stdout"
        }
      ]
    },
    {
      "cell_type": "code",
      "metadata": {
        "colab_type": "code",
        "id": "aEQFTWiV6g2h",
        "colab": {}
      },
      "source": [
        "from pyspark.sql import SparkSession\n",
        "spark = SparkSession.builder.appName(\"Homework_week_22\").config(\"spark.driver.extraClassPath\",\"/content/postgresql-42.2.9.jar\").getOrCreate()"
      ],
      "execution_count": 0,
      "outputs": []
    },
    {
      "cell_type": "code",
      "metadata": {
        "colab_type": "code",
        "id": "qik6uGSV9BWa",
        "outputId": "1dc5a79f-1de0-4f22-c2b6-f44cb8cab01c",
        "colab": {
          "base_uri": "https://localhost:8080/",
          "height": 512
        }
      },
      "source": [
        "# Read in data from S3 Buckets\n",
        "from pyspark import SparkFiles\n",
        "# url=\"https://s3.amazonaws.com/amazon-reviews-pds/tsv/amazon_reviews_us_Pet_Products_v1_00.tsv.gz\"\n",
        "url=\"https://amazon-review-bucket.s3.amazonaws.com/amazon_reviews_us_Pet_Products_v1_00.tsv.gz\"\n",
        "spark.sparkContext.addFile(url)\n",
        "\n",
        "user_data_df = spark.read.csv(SparkFiles.get(\"amazon_reviews_us_Pet_Products_v1_00.tsv.gz\"), sep='\\t', header=True)\n",
        "\n",
        "# Show DataFrame\n",
        "user_data_df.show()\n",
        "user_data_df.count()"
      ],
      "execution_count": 0,
      "outputs": [
        {
          "output_type": "stream",
          "text": [
            "+-----------+-----------+--------------+----------+--------------+--------------------+----------------+-----------+-------------+-----------+----+-----------------+--------------------+--------------------+-----------+\n",
            "|marketplace|customer_id|     review_id|product_id|product_parent|       product_title|product_category|star_rating|helpful_votes|total_votes|vine|verified_purchase|     review_headline|         review_body|review_date|\n",
            "+-----------+-----------+--------------+----------+--------------+--------------------+----------------+-----------+-------------+-----------+----+-----------------+--------------------+--------------------+-----------+\n",
            "|         US|   28794885| REAKC26P07MDN|B00Q0K9604|     510387886|(8-Pack) EZwhelp ...|    Pet Products|          5|            0|          0|   N|                Y|A great purchase ...|Best belly bands ...| 2015-08-31|\n",
            "|         US|   11488901|R3NU7OMZ4HQIEG|B00MBW5O9W|     912374672|Warren Eckstein's...|    Pet Products|          2|            0|          1|   N|                Y|My dogs love Hugs...|My dogs love Hugs...| 2015-08-31|\n",
            "|         US|   43214993|R14QJW3XF8QO1P|B0084OHUIO|     902215727|Tyson's True Chew...|    Pet Products|          5|            0|          0|   N|                Y|I have been purch...|I have been purch...| 2015-08-31|\n",
            "|         US|   12835065|R2HB7AX0394ZGY|B001GS71K2|     568880110|Soft Side Pet Cra...|    Pet Products|          5|            0|          0|   N|                Y|it is easy to ope...|It is extremely w...| 2015-08-31|\n",
            "|         US|   26334022| RGKMPDQGSAHR3|B004ABH1LG|     692846826|EliteField 3-Door...|    Pet Products|          5|            0|          0|   N|                Y|           Dog crate|Worked really wel...| 2015-08-31|\n",
            "|         US|   22283621|R1DJCVPQGCV66E|B00AX0LFM4|     590674141|Carlson 68-Inch W...|    Pet Products|          5|            0|          0|   N|                Y|          Five Stars|I love my gates! ...| 2015-08-31|\n",
            "|         US|   14469895|R3V52EAWLPBFQG|B00DQFZGZ0|     688538603|Dog Seat Cover Wi...|    Pet Products|          3|            0|          0|   N|                Y|Seat belt tugs on...|Didn't quite work...| 2015-08-31|\n",
            "|         US|   50896354|R3DKO8J1J28QBI|B00DIRF9US|     742358789|The Bird Catcher ...|    Pet Products|          2|            0|          0|   N|                Y|Great Pole, but S...|I had the origina...| 2015-08-31|\n",
            "|         US|   18440567| R764DBXGRNECG|B00JRCBFUG|     869798483|Cat Bed - Purrfec...|    Pet Products|          5|            1|          1|   N|                N|     My cat loves it|The pad is very s...| 2015-08-31|\n",
            "|         US|   50502362| RW1853GAT0Z9F|B000L3XYZ4|     501118658|PetSafe Drinkwell...|    Pet Products|          5|            0|          0|   N|                Y|          Five Stars|My cat drinks mor...| 2015-08-31|\n",
            "|         US|   33930128|R33GITXNUF1AD4|B00BOEXWFG|     454737777|Contech ZenDog Ca...|    Pet Products|          2|            0|          0|   N|                Y|Also had to pull ...|Much smaller than...| 2015-08-31|\n",
            "|         US|   43534290|R1H7AVM81TAYRV|B001HBBQKY|     420905252|Wellness Crunchy ...|    Pet Products|          1|            2|          2|   N|                Y|DO NOT PURCHASE -...|I used to love th...| 2015-08-31|\n",
            "|         US|   45555864|R2ZOYAQZNNZZWV|B007O1FHB0|     302588963|Rx Vitamins Essen...|    Pet Products|          5|            0|          0|   N|                Y|          Five Stars|Recommended by my...| 2015-08-31|\n",
            "|         US|   11147406|R2FN1H3CGW6J8H|B001P3NU30|     525778264|Virbac C.E.T. Enz...|    Pet Products|          1|            0|          0|   N|                Y|Received wrong pr...|Yes I  ordered fo...| 2015-08-31|\n",
            "|         US|    6495678| RJB41Q575XNG4|B00ZP6HS6S|     414117299|Kitty Shack - 2 i...|    Pet Products|          5|            0|          3|   N|                Y|          Five Stars|      It falls apart| 2015-08-31|\n",
            "|         US|    2019416|R28W8BM1587CPF|B00IP05CUA|     833937853|Wellness Kittles ...|    Pet Products|          5|            0|          0|   N|                Y|kitty is ravenous...|My cat really lov...| 2015-08-31|\n",
            "|         US|   40459386|R1II0M01NIG293|B001U8Y598|      85343577|OmniPet Anti-Ant ...|    Pet Products|          2|            0|          0|   N|                N|Maybe other speci...|This bowl is not ...| 2015-08-31|\n",
            "|         US|   23126800| RMB8N0DBRH34O|B011AY4JWO|     499241195|K9KONNECTION [New...|    Pet Products|          5|            1|          1|   N|                Y|This works, dog n...|I have a small do...| 2015-08-31|\n",
            "|         US|   30238476|R24WB6A6WVIPU6|B00DDSHE5A|     409532388|SUNSEED COMPANY 3...|    Pet Products|          5|            0|          0|   N|                Y|    Yummy for Bunny!|Bunny loves it! E...| 2015-08-31|\n",
            "|         US|   35113999| ROCJSH0P9YSRW|B00PJW5OR8|     259271919|CXB1983(TM)Cute P...|    Pet Products|          5|            0|          0|   N|                Y|excellent price, ...|Petfect,,quality ...| 2015-08-31|\n",
            "+-----------+-----------+--------------+----------+--------------+--------------------+----------------+-----------+-------------+-----------+----+-----------------+--------------------+--------------------+-----------+\n",
            "only showing top 20 rows\n",
            "\n"
          ],
          "name": "stdout"
        },
        {
          "output_type": "execute_result",
          "data": {
            "text/plain": [
              "2643619"
            ]
          },
          "metadata": {
            "tags": []
          },
          "execution_count": 13
        }
      ]
    },
    {
      "cell_type": "code",
      "metadata": {
        "colab_type": "code",
        "id": "rtDndjrdlh83",
        "outputId": "eb66a4ce-e95b-4734-8047-a456929006eb",
        "colab": {
          "base_uri": "https://localhost:8080/",
          "height": 34
        }
      },
      "source": [
        "# Drop null values\n",
        "user_data_df = user_data_df.dropna()\n",
        "user_data_df.count()"
      ],
      "execution_count": 0,
      "outputs": [
        {
          "output_type": "execute_result",
          "data": {
            "text/plain": [
              "2643241"
            ]
          },
          "metadata": {
            "tags": []
          },
          "execution_count": 14
        }
      ]
    },
    {
      "cell_type": "code",
      "metadata": {
        "colab_type": "code",
        "id": "bjEBAydllvCg",
        "outputId": "d65f4f19-34ca-4ffb-cf1d-e707840eba81",
        "colab": {
          "base_uri": "https://localhost:8080/",
          "height": 512
        }
      },
      "source": [
        "# Load in a sql function to use columns\n",
        "from pyspark.sql.functions import col\n",
        "\n",
        "# Filter for only columns with verified purchases, a minimum of 1 helpful vote and a minimum of 5 total\n",
        "cleaned_df = user_data_df.filter(col(\"verified_purchase\")  == \"Y\")\n",
        "cleaned_df = cleaned_df.filter(col(\"helpful_votes\")  > 0)\n",
        "cleaned_df = cleaned_df.filter(col(\"total_votes\")  > 5)\n",
        "print(\"Total Number of Pet Product Reviews through Vine: \", cleaned_df.count())\n",
        "cleaned_df.show()"
      ],
      "execution_count": 0,
      "outputs": [
        {
          "output_type": "stream",
          "text": [
            "Total Number of Pet Product Reviews through Vine:  117813\n",
            "+-----------+-----------+--------------+----------+--------------+--------------------+----------------+-----------+-------------+-----------+----+-----------------+--------------------+--------------------+-----------+\n",
            "|marketplace|customer_id|     review_id|product_id|product_parent|       product_title|product_category|star_rating|helpful_votes|total_votes|vine|verified_purchase|     review_headline|         review_body|review_date|\n",
            "+-----------+-----------+--------------+----------+--------------+--------------------+----------------+-----------+-------------+-----------+----+-----------------+--------------------+--------------------+-----------+\n",
            "|         US|    6454837|R2D06CYY6KZSJ0|B00FEEFM6Y|     314480388|Zuke’s Skinny Bak...|    Pet Products|          2|           16|         19|   N|                Y|        Not the best|My dog doesn't li...| 2015-08-31|\n",
            "|         US|    1820095|R2P2G1XUTS2UI1|B0002565N4|     419360744|Penn Plax The Sup...|    Pet Products|          5|            8|          8|   N|                Y|Works perfect wit...|I've used this tw...| 2015-08-31|\n",
            "|         US|   10299380|R2E9I9L1DXK7U8|B00DJZ0SE6|     298598234|Wysong Geriatrx S...|    Pet Products|          5|           10|         10|   N|                Y|    Wysong Geriatrix|This is one of my...| 2015-08-31|\n",
            "|         US|   13497289| RT0UQXBO40MI5|B00KXE0SJ6|     626985166|Phoenix Worms (Sm...|    Pet Products|          5|            6|          6|   N|                Y|Great service and...|They arrived soon...| 2015-08-31|\n",
            "|         US|   16360624| RF0AI0E9TBNEK|B00KR3PROE|     523188961|Insten Adjustable...|    Pet Products|          3|            6|          6|   N|                Y|Good heat short cord|Heater worked goo...| 2015-08-31|\n",
            "|         US|   51227803|R21KC552Y6HL8X|B00E2E1XBK|     180836080|Kennel Deck - 3 Pack|    Pet Products|          1|           27|         31|   N|                Y|The picture is of...|The product add p...| 2015-08-31|\n",
            "|         US|   12317031| ROJU3NC7YJOX2|B00IUP9COW|     352556125|Calm Cat Anti Anx...|    Pet Products|          1|            8|          8|   N|                Y|Buyer beware! My ...|Buyer beware!  My...| 2015-08-31|\n",
            "|         US|   52747799| RX9WC9FTIR1XR|B00DZITYGU|     598776873|Grey Shark Bed fo...|    Pet Products|          5|           25|         25|   N|                Y|Two seconds flat ...|Once I set it up,...| 2015-08-31|\n",
            "|         US|   43213184|  RTVXISV5QOKQ|B00BJB324K|     988247002|RH-58 2 Story W/R...|    Pet Products|          2|            6|          6|   N|                Y|poorly designed h...|We had problems w...| 2015-08-31|\n",
            "|         US|    4417771|R1ZTQ09ZCNTMDO|B007GCET7K|     885271830|NAP Pet Bed Sherp...|    Pet Products|          5|           12|         12|   N|                Y|            LOVE IT!|I use this for a ...| 2015-08-31|\n",
            "|         US|   15722762| RIRW4EE0K3Y1Y|B000H3VAQ8|     518556199|PetSafe Gentle Sp...|    Pet Products|          5|            5|          6|   N|                Y|Solution for sepa...|This was THE ONLY...| 2015-08-31|\n",
            "|         US|   23340430| RGDCOU1KBHMNG|B00N9SL8SS|     721942363|Pet Rat Mouse Lea...|    Pet Products|          3|           29|         31|   N|                Y|        OK for Price|Easy enough to pu...| 2015-08-31|\n",
            "|         US|   48234208| RVTYWID2TPMMY|B00EB4IV2A|     140722056|Northmate Catch I...|    Pet Products|          2|           35|         42|   N|                Y|        Intimidating|Love the concept....| 2015-08-31|\n",
            "|         US|   46248314|R3SW2LQTBWWAXI|B00I2YTTNA|     946525747|Non-Absorbent Reu...|    Pet Products|          1|            6|          7|   N|                Y|I am back to seek...|I can't speak to ...| 2015-08-31|\n",
            "|         US|   15614407|R2MDJ0QYH8RIP2|B00ONVDNRY|     234208739|Dr Mercola Organi...|    Pet Products|          5|            5|          7|   N|                Y|Great healthy sup...|Great healthy sup...| 2015-08-31|\n",
            "|         US|   23679684| RMC6ZN5AZZJMY|B00U9AJB24|     828842043|Mars Veterinary W...|    Pet Products|          1|            5|          7|   N|                Y|Don't waster you ...|I've done these p...| 2015-08-31|\n",
            "|         US|   45716437|R2MOW6SIHVZ1JS|B00PCOQ8A0|     458195617|Liquid Dog Calmin...|    Pet Products|          5|            7|          8|   N|                Y|    Sanity is saved!|I have three poms...| 2015-08-31|\n",
            "|         US|   26055961|R2H2VXKEBD44ZO|B000WEKLLW|     549899935|Purina ALPO Gravy...|    Pet Products|          2|            6|          8|   N|                Y|Not to my or my d...|I wanted somethin...| 2015-08-31|\n",
            "|         US|    2321625|R2CMPZ5VESGRLY|B00OC7661E|     664108863|4 Pets Large Dog ...|    Pet Products|          4|           27|         28|   N|                Y|Xl fits my 51 pou...|A little big on h...| 2015-08-31|\n",
            "|         US|    5606598|R35C6K6Y912N8Y|B008VRXDTO|     682105744|Imagitarium Newpo...|    Pet Products|          4|            6|          6|   N|                Y|Looks Good, Multi...|Pros: My 5 gallon...| 2015-08-31|\n",
            "+-----------+-----------+--------------+----------+--------------+--------------------+----------------+-----------+-------------+-----------+----+-----------------+--------------------+--------------------+-----------+\n",
            "only showing top 20 rows\n",
            "\n"
          ],
          "name": "stdout"
        }
      ]
    },
    {
      "cell_type": "code",
      "metadata": {
        "colab_type": "code",
        "id": "qVzKY3EjmUoj",
        "outputId": "8261138b-d35f-4ced-ab9b-02ee73c4a5da",
        "colab": {
          "base_uri": "https://localhost:8080/",
          "height": 492
        }
      },
      "source": [
        "# Create user dataframe to find count of reviews per customer (for table Customers )\n",
        "df_customers = cleaned_df.groupby('customer_id').agg({'review_id': 'count'})\n",
        "df_customers = df_customers.withColumnRenamed('count(review_id)','customer_count')\n",
        "print(\"Total number of Customers: \", df_customers.count())\n",
        "df_customers.show()"
      ],
      "execution_count": 0,
      "outputs": [
        {
          "output_type": "stream",
          "text": [
            "Total number of Customers:  103016\n",
            "+-----------+--------------+\n",
            "|customer_id|customer_count|\n",
            "+-----------+--------------+\n",
            "|   10250915|             1|\n",
            "|   38830324|             1|\n",
            "|   14505313|             1|\n",
            "|   20850834|             1|\n",
            "|   46565651|             1|\n",
            "|   46836847|             1|\n",
            "|   51005012|             1|\n",
            "|   44169385|             1|\n",
            "|   46990092|             2|\n",
            "|   10252330|             1|\n",
            "|   14348125|             1|\n",
            "|   50878423|             1|\n",
            "|   10654670|             1|\n",
            "|   42014357|             1|\n",
            "|   39887185|             1|\n",
            "|   13261276|             1|\n",
            "|   20133027|             1|\n",
            "|   35869248|             1|\n",
            "|     785286|             1|\n",
            "|   50003658|             1|\n",
            "+-----------+--------------+\n",
            "only showing top 20 rows\n",
            "\n"
          ],
          "name": "stdout"
        }
      ]
    },
    {
      "cell_type": "code",
      "metadata": {
        "id": "H7luYuamgElN",
        "colab_type": "code",
        "outputId": "256aa5ba-e675-4e51-82e2-cc104d34a771",
        "colab": {
          "base_uri": "https://localhost:8080/",
          "height": 34
        }
      },
      "source": [
        "df_customers = df_customers.selectExpr(\"cast(customer_id as int) customer_id\",\"cast(customer_count as int) customer_count\")\n",
        "df_customers.dtypes"
      ],
      "execution_count": 0,
      "outputs": [
        {
          "output_type": "execute_result",
          "data": {
            "text/plain": [
              "[('customer_id', 'int'), ('customer_count', 'int')]"
            ]
          },
          "metadata": {
            "tags": []
          },
          "execution_count": 17
        }
      ]
    },
    {
      "cell_type": "code",
      "metadata": {
        "colab_type": "code",
        "id": "K6mUzCILmj9X",
        "outputId": "fe82ae8c-751b-4c34-ae49-d70dbb6e06fd",
        "colab": {
          "base_uri": "https://localhost:8080/",
          "height": 492
        }
      },
      "source": [
        "# Create user dataframe to store product Information\n",
        "df_products = cleaned_df.select(['Product_ID','product_title','product_category']).distinct()\n",
        "print(\"Total number of Products: \", df_products.count())\n",
        "df_products.show()"
      ],
      "execution_count": 0,
      "outputs": [
        {
          "output_type": "stream",
          "text": [
            "Total number of Products:  37234\n",
            "+----------+--------------------+----------------+\n",
            "|Product_ID|       product_title|product_category|\n",
            "+----------+--------------------+----------------+\n",
            "|B00V74ZREW|Wondercide Natura...|    Pet Products|\n",
            "|B0117ZVPE6|Tetra ReptoHeat B...|    Pet Products|\n",
            "|B00M0PC37G|Liteaid Wood Adju...|    Pet Products|\n",
            "|B01123MDIK|Merax Pet Strolle...|    Pet Products|\n",
            "|B00PGKWGMY|Service Dog Harne...|    Pet Products|\n",
            "|B005FU4Z8I|Kaytee Hay n Food...|    Pet Products|\n",
            "|B003BK9XPY|Big Button Dog Ca...|    Pet Products|\n",
            "|B000S5JN5K|Esha Gastropex Aq...|    Pet Products|\n",
            "|B00OP6R094|AmazonBasics Elev...|    Pet Products|\n",
            "|B00BUFTKBE|Coastal Pet Produ...|    Pet Products|\n",
            "|B00ZSN5RUW|Fur Family Cat Tr...|    Pet Products|\n",
            "|B00B9GRQTM|Generic GT-211SW ...|    Pet Products|\n",
            "|B000H904WS|MidWest Homes for...|    Pet Products|\n",
            "|B003SLTETG|High Tech Pet Pow...|    Pet Products|\n",
            "|B00ET0C4WE|ANGELS' EYES Whit...|    Pet Products|\n",
            "|B0018CE5PA|Aqueon Fern Aquar...|    Pet Products|\n",
            "|B000V7KM32|Tetra Whisper Air...|    Pet Products|\n",
            "|B00HEXPIEY|1 X Fashion Pet D...|    Pet Products|\n",
            "|B00XQ0RYK0|DNA MY Dog - Cani...|    Pet Products|\n",
            "|B003H1NYIY|Only Natural Pet ...|    Pet Products|\n",
            "+----------+--------------------+----------------+\n",
            "only showing top 20 rows\n",
            "\n"
          ],
          "name": "stdout"
        }
      ]
    },
    {
      "cell_type": "code",
      "metadata": {
        "id": "Ow-WOOIJlwej",
        "colab_type": "code",
        "outputId": "8e65fe2e-daf5-4287-b28e-c15662f7d7e9",
        "colab": {
          "base_uri": "https://localhost:8080/",
          "height": 70
        }
      },
      "source": [
        "df_products.dtypes"
      ],
      "execution_count": 0,
      "outputs": [
        {
          "output_type": "execute_result",
          "data": {
            "text/plain": [
              "[('Product_ID', 'string'),\n",
              " ('product_title', 'string'),\n",
              " ('product_category', 'string')]"
            ]
          },
          "metadata": {
            "tags": []
          },
          "execution_count": 19
        }
      ]
    },
    {
      "cell_type": "code",
      "metadata": {
        "colab_type": "code",
        "id": "wVcL8Ub7mmaY",
        "outputId": "8b8d2d11-4a64-4e73-fa4f-afd6bae20235",
        "colab": {
          "base_uri": "https://localhost:8080/",
          "height": 492
        }
      },
      "source": [
        "# Create user dataframe for review_id_table\n",
        "df_review_id_table = cleaned_df.select([\"review_id\", \"customer_id\",\"product_id\",\"product_parent\",\"review_date\"])\n",
        "print(\"Total number of Reviews: \", df_review_id_table.count())\n",
        "df_review_id_table.show()"
      ],
      "execution_count": 0,
      "outputs": [
        {
          "output_type": "stream",
          "text": [
            "Total number of Reviews:  117813\n",
            "+--------------+-----------+----------+--------------+-----------+\n",
            "|     review_id|customer_id|product_id|product_parent|review_date|\n",
            "+--------------+-----------+----------+--------------+-----------+\n",
            "|R2D06CYY6KZSJ0|    6454837|B00FEEFM6Y|     314480388| 2015-08-31|\n",
            "|R2P2G1XUTS2UI1|    1820095|B0002565N4|     419360744| 2015-08-31|\n",
            "|R2E9I9L1DXK7U8|   10299380|B00DJZ0SE6|     298598234| 2015-08-31|\n",
            "| RT0UQXBO40MI5|   13497289|B00KXE0SJ6|     626985166| 2015-08-31|\n",
            "| RF0AI0E9TBNEK|   16360624|B00KR3PROE|     523188961| 2015-08-31|\n",
            "|R21KC552Y6HL8X|   51227803|B00E2E1XBK|     180836080| 2015-08-31|\n",
            "| ROJU3NC7YJOX2|   12317031|B00IUP9COW|     352556125| 2015-08-31|\n",
            "| RX9WC9FTIR1XR|   52747799|B00DZITYGU|     598776873| 2015-08-31|\n",
            "|  RTVXISV5QOKQ|   43213184|B00BJB324K|     988247002| 2015-08-31|\n",
            "|R1ZTQ09ZCNTMDO|    4417771|B007GCET7K|     885271830| 2015-08-31|\n",
            "| RIRW4EE0K3Y1Y|   15722762|B000H3VAQ8|     518556199| 2015-08-31|\n",
            "| RGDCOU1KBHMNG|   23340430|B00N9SL8SS|     721942363| 2015-08-31|\n",
            "| RVTYWID2TPMMY|   48234208|B00EB4IV2A|     140722056| 2015-08-31|\n",
            "|R3SW2LQTBWWAXI|   46248314|B00I2YTTNA|     946525747| 2015-08-31|\n",
            "|R2MDJ0QYH8RIP2|   15614407|B00ONVDNRY|     234208739| 2015-08-31|\n",
            "| RMC6ZN5AZZJMY|   23679684|B00U9AJB24|     828842043| 2015-08-31|\n",
            "|R2MOW6SIHVZ1JS|   45716437|B00PCOQ8A0|     458195617| 2015-08-31|\n",
            "|R2H2VXKEBD44ZO|   26055961|B000WEKLLW|     549899935| 2015-08-31|\n",
            "|R2CMPZ5VESGRLY|    2321625|B00OC7661E|     664108863| 2015-08-31|\n",
            "|R35C6K6Y912N8Y|    5606598|B008VRXDTO|     682105744| 2015-08-31|\n",
            "+--------------+-----------+----------+--------------+-----------+\n",
            "only showing top 20 rows\n",
            "\n"
          ],
          "name": "stdout"
        }
      ]
    },
    {
      "cell_type": "code",
      "metadata": {
        "id": "g-lz_l8Wy63L",
        "colab_type": "code",
        "outputId": "3da57c76-e6af-4383-cd03-adca0798a759",
        "colab": {
          "base_uri": "https://localhost:8080/",
          "height": 105
        }
      },
      "source": [
        "df_review_id_table = df_review_id_table.selectExpr(\"cast(review_id as string) review_id\",\"cast(customer_id as int) customer_id\",\"cast(product_id as string) product_id\",\"cast(product_parent as int) product_parent\",\"cast(review_date as date) review_date\")\n",
        "df_review_id_table.dtypes"
      ],
      "execution_count": 0,
      "outputs": [
        {
          "output_type": "execute_result",
          "data": {
            "text/plain": [
              "[('review_id', 'string'),\n",
              " ('customer_id', 'int'),\n",
              " ('product_id', 'string'),\n",
              " ('product_parent', 'int'),\n",
              " ('review_date', 'date')]"
            ]
          },
          "metadata": {
            "tags": []
          },
          "execution_count": 21
        }
      ]
    },
    {
      "cell_type": "code",
      "metadata": {
        "id": "FEtfqh180VkS",
        "colab_type": "code",
        "outputId": "6741f11d-b72b-4d26-d0b7-c622aff44ecc",
        "colab": {
          "base_uri": "https://localhost:8080/",
          "height": 474
        }
      },
      "source": [
        "df_review_id_table.show()"
      ],
      "execution_count": 0,
      "outputs": [
        {
          "output_type": "stream",
          "text": [
            "+--------------+-----------+----------+--------------+-----------+\n",
            "|     review_id|customer_id|product_id|product_parent|review_date|\n",
            "+--------------+-----------+----------+--------------+-----------+\n",
            "|R2D06CYY6KZSJ0|    6454837|B00FEEFM6Y|     314480388| 2015-08-31|\n",
            "|R2P2G1XUTS2UI1|    1820095|B0002565N4|     419360744| 2015-08-31|\n",
            "|R2E9I9L1DXK7U8|   10299380|B00DJZ0SE6|     298598234| 2015-08-31|\n",
            "| RT0UQXBO40MI5|   13497289|B00KXE0SJ6|     626985166| 2015-08-31|\n",
            "| RF0AI0E9TBNEK|   16360624|B00KR3PROE|     523188961| 2015-08-31|\n",
            "|R21KC552Y6HL8X|   51227803|B00E2E1XBK|     180836080| 2015-08-31|\n",
            "| ROJU3NC7YJOX2|   12317031|B00IUP9COW|     352556125| 2015-08-31|\n",
            "| RX9WC9FTIR1XR|   52747799|B00DZITYGU|     598776873| 2015-08-31|\n",
            "|  RTVXISV5QOKQ|   43213184|B00BJB324K|     988247002| 2015-08-31|\n",
            "|R1ZTQ09ZCNTMDO|    4417771|B007GCET7K|     885271830| 2015-08-31|\n",
            "| RIRW4EE0K3Y1Y|   15722762|B000H3VAQ8|     518556199| 2015-08-31|\n",
            "| RGDCOU1KBHMNG|   23340430|B00N9SL8SS|     721942363| 2015-08-31|\n",
            "| RVTYWID2TPMMY|   48234208|B00EB4IV2A|     140722056| 2015-08-31|\n",
            "|R3SW2LQTBWWAXI|   46248314|B00I2YTTNA|     946525747| 2015-08-31|\n",
            "|R2MDJ0QYH8RIP2|   15614407|B00ONVDNRY|     234208739| 2015-08-31|\n",
            "| RMC6ZN5AZZJMY|   23679684|B00U9AJB24|     828842043| 2015-08-31|\n",
            "|R2MOW6SIHVZ1JS|   45716437|B00PCOQ8A0|     458195617| 2015-08-31|\n",
            "|R2H2VXKEBD44ZO|   26055961|B000WEKLLW|     549899935| 2015-08-31|\n",
            "|R2CMPZ5VESGRLY|    2321625|B00OC7661E|     664108863| 2015-08-31|\n",
            "|R35C6K6Y912N8Y|    5606598|B008VRXDTO|     682105744| 2015-08-31|\n",
            "+--------------+-----------+----------+--------------+-----------+\n",
            "only showing top 20 rows\n",
            "\n"
          ],
          "name": "stdout"
        }
      ]
    },
    {
      "cell_type": "code",
      "metadata": {
        "id": "EV5OvfYHc9A4",
        "colab_type": "code",
        "outputId": "953a6504-3628-45d6-b067-70914f3e3d83",
        "colab": {
          "base_uri": "https://localhost:8080/",
          "height": 492
        }
      },
      "source": [
        "# Create user dataframe for vine data \n",
        "df_vine_table = cleaned_df.select([\"review_id\", \"star_rating\",\"helpful_votes\",\"total_votes\",\"vine\"])\n",
        "print(\"Total number of Vine Records: \", df_vine_table.count())\n",
        "df_vine_table.show()"
      ],
      "execution_count": 0,
      "outputs": [
        {
          "output_type": "stream",
          "text": [
            "Total number of Vine Records:  117813\n",
            "+--------------+-----------+-------------+-----------+----+\n",
            "|     review_id|star_rating|helpful_votes|total_votes|vine|\n",
            "+--------------+-----------+-------------+-----------+----+\n",
            "|R2D06CYY6KZSJ0|          2|           16|         19|   N|\n",
            "|R2P2G1XUTS2UI1|          5|            8|          8|   N|\n",
            "|R2E9I9L1DXK7U8|          5|           10|         10|   N|\n",
            "| RT0UQXBO40MI5|          5|            6|          6|   N|\n",
            "| RF0AI0E9TBNEK|          3|            6|          6|   N|\n",
            "|R21KC552Y6HL8X|          1|           27|         31|   N|\n",
            "| ROJU3NC7YJOX2|          1|            8|          8|   N|\n",
            "| RX9WC9FTIR1XR|          5|           25|         25|   N|\n",
            "|  RTVXISV5QOKQ|          2|            6|          6|   N|\n",
            "|R1ZTQ09ZCNTMDO|          5|           12|         12|   N|\n",
            "| RIRW4EE0K3Y1Y|          5|            5|          6|   N|\n",
            "| RGDCOU1KBHMNG|          3|           29|         31|   N|\n",
            "| RVTYWID2TPMMY|          2|           35|         42|   N|\n",
            "|R3SW2LQTBWWAXI|          1|            6|          7|   N|\n",
            "|R2MDJ0QYH8RIP2|          5|            5|          7|   N|\n",
            "| RMC6ZN5AZZJMY|          1|            5|          7|   N|\n",
            "|R2MOW6SIHVZ1JS|          5|            7|          8|   N|\n",
            "|R2H2VXKEBD44ZO|          2|            6|          8|   N|\n",
            "|R2CMPZ5VESGRLY|          4|           27|         28|   N|\n",
            "|R35C6K6Y912N8Y|          4|            6|          6|   N|\n",
            "+--------------+-----------+-------------+-----------+----+\n",
            "only showing top 20 rows\n",
            "\n"
          ],
          "name": "stdout"
        }
      ]
    },
    {
      "cell_type": "code",
      "metadata": {
        "id": "rOQQ2fk70wd5",
        "colab_type": "code",
        "outputId": "79e5c405-eef4-4ced-c421-3735fc296768",
        "colab": {
          "base_uri": "https://localhost:8080/",
          "height": 105
        }
      },
      "source": [
        "df_vine_table = df_vine_table.selectExpr(\"cast(review_id as string) review_id\",\"cast(star_rating as int) star_rating\",\"cast(helpful_votes as int) helpful_votes\",\"cast(total_votes as int) total_votes\",\"cast(vine as string) vine\")\n",
        "df_vine_table.dtypes"
      ],
      "execution_count": 0,
      "outputs": [
        {
          "output_type": "execute_result",
          "data": {
            "text/plain": [
              "[('review_id', 'string'),\n",
              " ('star_rating', 'int'),\n",
              " ('helpful_votes', 'int'),\n",
              " ('total_votes', 'int'),\n",
              " ('vine', 'string')]"
            ]
          },
          "metadata": {
            "tags": []
          },
          "execution_count": 24
        }
      ]
    },
    {
      "cell_type": "markdown",
      "metadata": {
        "colab_type": "text",
        "id": "kQgPpNnVnRwh"
      },
      "source": [
        "Postgres Setup"
      ]
    },
    {
      "cell_type": "code",
      "metadata": {
        "colab_type": "code",
        "id": "985Vl1dtmpVU",
        "colab": {}
      },
      "source": [
        "# Configure settings for RDS\n",
        "mode = \"append\"\n",
        "jdbc_url=\"jdbc:postgresql://amazon-review-avr.cn0fs69uwn5x.us-east-1.rds.amazonaws.com:5432/amazon_review_db\"\n",
        "config = {\"user\":\"root\", \n",
        "          \"password\": \"Welcome!\", \n",
        "          \"driver\":\"org.postgresql.Driver\"}\n"
      ],
      "execution_count": 0,
      "outputs": []
    },
    {
      "cell_type": "code",
      "metadata": {
        "colab_type": "code",
        "id": "9yyZgvcUnaNN",
        "colab": {}
      },
      "source": [
        "# Write DataFrame to customer table in RDS\n",
        "\n",
        "df_customers.write.jdbc(url=jdbc_url, table='customers', mode=mode, properties=config)"
      ],
      "execution_count": 0,
      "outputs": []
    },
    {
      "cell_type": "code",
      "metadata": {
        "colab_type": "code",
        "id": "8rsTf2kmna3V",
        "colab": {}
      },
      "source": [
        "# Write dataframe to products table in RDS\n",
        "\n",
        "df_products.write.jdbc(url=jdbc_url, table='products', mode=mode, properties=config)"
      ],
      "execution_count": 0,
      "outputs": []
    },
    {
      "cell_type": "code",
      "metadata": {
        "colab_type": "code",
        "id": "9q6Bm3kAncqx",
        "colab": {}
      },
      "source": [
        "# Write dataframe to review_id table in RDS\n",
        "\n",
        "df_review_id_table.write.jdbc(url=jdbc_url, table='review_id_table', mode=mode, properties=config)"
      ],
      "execution_count": 0,
      "outputs": []
    },
    {
      "cell_type": "code",
      "metadata": {
        "colab_type": "code",
        "id": "Kx3hMnlAD5FA",
        "colab": {}
      },
      "source": [
        "# Write dataframe to vine table in RDS\n",
        "\n",
        "df_vine_table.write.jdbc(url=jdbc_url, table='vine_table', mode=mode, properties=config)"
      ],
      "execution_count": 0,
      "outputs": []
    },
    {
      "cell_type": "code",
      "metadata": {
        "id": "Kw9kwC8vdkkZ",
        "colab_type": "code",
        "colab": {}
      },
      "source": [
        "from pyspark import SparkFiles\n",
        "from pyspark.sql.functions import col\n",
        "\n",
        "\n",
        "url=\"https://amazon-review-bucket.s3.amazonaws.com/t_test.csv\"\n",
        "spark.sparkContext.addFile(url)\n",
        "df_ttest = spark.read.csv(SparkFiles.get(\"t_test.csv\"), sep=',', header=True)"
      ],
      "execution_count": 0,
      "outputs": []
    },
    {
      "cell_type": "code",
      "metadata": {
        "id": "R-7LwI1Ymw2V",
        "colab_type": "code",
        "colab": {
          "base_uri": "https://localhost:8080/",
          "height": 140
        },
        "outputId": "0648077a-ce40-41d2-fce2-35d9b8faca85"
      },
      "source": [
        "df_ttest.show()"
      ],
      "execution_count": 23,
      "outputs": [
        {
          "output_type": "stream",
          "text": [
            "+---+------+------+------+------+------+\n",
            "|_c0|1 star|2 star|3 star|4 star|5 star|\n",
            "+---+------+------+------+------+------+\n",
            "|  N| 22.56|  7.47|  9.12| 13.76| 47.09|\n",
            "|  Y| 13.64|  4.55|  4.55| 13.64| 63.64|\n",
            "+---+------+------+------+------+------+\n",
            "\n"
          ],
          "name": "stdout"
        }
      ]
    },
    {
      "cell_type": "code",
      "metadata": {
        "id": "uQW-F2f9nbEo",
        "colab_type": "code",
        "colab": {
          "base_uri": "https://localhost:8080/",
          "height": 526
        },
        "outputId": "31188762-8c24-4f7a-ddd9-bc9b69c3f345"
      },
      "source": [
        "import scipy\n",
        "vine_rating = df_ttest.filter(col(\"_c0\")==\"Y\")\n",
        "not_vine_rating = df_ttest.filter(col(\"_c0\")==\"N\")\n",
        "\n",
        "vine_rating.select(['5 star']).show()\n",
        "scipy.stats.ttest_ind(vine_rating.select(['5 star']), not_vine_rating.select(['5 star']), equal_var=False)"
      ],
      "execution_count": 39,
      "outputs": [
        {
          "output_type": "stream",
          "text": [
            "+------+\n",
            "|5 star|\n",
            "+------+\n",
            "| 63.64|\n",
            "+------+\n",
            "\n"
          ],
          "name": "stdout"
        },
        {
          "output_type": "stream",
          "text": [
            "/usr/local/lib/python3.6/dist-packages/numpy/core/fromnumeric.py:3584: RuntimeWarning: Degrees of freedom <= 0 for slice\n",
            "  **kwargs)\n"
          ],
          "name": "stderr"
        },
        {
          "output_type": "error",
          "ename": "TypeError",
          "evalue": "ignored",
          "traceback": [
            "\u001b[0;31m---------------------------------------------------------------------------\u001b[0m",
            "\u001b[0;31mTypeError\u001b[0m                                 Traceback (most recent call last)",
            "\u001b[0;32m<ipython-input-39-e3eb80da5a1f>\u001b[0m in \u001b[0;36m<module>\u001b[0;34m()\u001b[0m\n\u001b[1;32m      4\u001b[0m \u001b[0;34m\u001b[0m\u001b[0m\n\u001b[1;32m      5\u001b[0m \u001b[0mvine_rating\u001b[0m\u001b[0;34m.\u001b[0m\u001b[0mselect\u001b[0m\u001b[0;34m(\u001b[0m\u001b[0;34m[\u001b[0m\u001b[0;34m'5 star'\u001b[0m\u001b[0;34m]\u001b[0m\u001b[0;34m)\u001b[0m\u001b[0;34m.\u001b[0m\u001b[0mshow\u001b[0m\u001b[0;34m(\u001b[0m\u001b[0;34m)\u001b[0m\u001b[0;34m\u001b[0m\u001b[0;34m\u001b[0m\u001b[0m\n\u001b[0;32m----> 6\u001b[0;31m \u001b[0mscipy\u001b[0m\u001b[0;34m.\u001b[0m\u001b[0mstats\u001b[0m\u001b[0;34m.\u001b[0m\u001b[0mttest_ind\u001b[0m\u001b[0;34m(\u001b[0m\u001b[0mvine_rating\u001b[0m\u001b[0;34m.\u001b[0m\u001b[0mselect\u001b[0m\u001b[0;34m(\u001b[0m\u001b[0;34m[\u001b[0m\u001b[0;34m'5 star'\u001b[0m\u001b[0;34m]\u001b[0m\u001b[0;34m)\u001b[0m\u001b[0;34m,\u001b[0m \u001b[0mnot_vine_rating\u001b[0m\u001b[0;34m.\u001b[0m\u001b[0mselect\u001b[0m\u001b[0;34m(\u001b[0m\u001b[0;34m[\u001b[0m\u001b[0;34m'5 star'\u001b[0m\u001b[0;34m]\u001b[0m\u001b[0;34m)\u001b[0m\u001b[0;34m,\u001b[0m \u001b[0mequal_var\u001b[0m\u001b[0;34m=\u001b[0m\u001b[0;32mFalse\u001b[0m\u001b[0;34m)\u001b[0m\u001b[0;34m\u001b[0m\u001b[0;34m\u001b[0m\u001b[0m\n\u001b[0m",
            "\u001b[0;32m/usr/local/lib/python3.6/dist-packages/scipy/stats/stats.py\u001b[0m in \u001b[0;36mttest_ind\u001b[0;34m(a, b, axis, equal_var, nan_policy)\u001b[0m\n\u001b[1;32m   5252\u001b[0m         \u001b[0;32mreturn\u001b[0m \u001b[0mTtest_indResult\u001b[0m\u001b[0;34m(\u001b[0m\u001b[0mnp\u001b[0m\u001b[0;34m.\u001b[0m\u001b[0mnan\u001b[0m\u001b[0;34m,\u001b[0m \u001b[0mnp\u001b[0m\u001b[0;34m.\u001b[0m\u001b[0mnan\u001b[0m\u001b[0;34m)\u001b[0m\u001b[0;34m\u001b[0m\u001b[0;34m\u001b[0m\u001b[0m\n\u001b[1;32m   5253\u001b[0m \u001b[0;34m\u001b[0m\u001b[0m\n\u001b[0;32m-> 5254\u001b[0;31m     \u001b[0mv1\u001b[0m \u001b[0;34m=\u001b[0m \u001b[0mnp\u001b[0m\u001b[0;34m.\u001b[0m\u001b[0mvar\u001b[0m\u001b[0;34m(\u001b[0m\u001b[0ma\u001b[0m\u001b[0;34m,\u001b[0m \u001b[0maxis\u001b[0m\u001b[0;34m,\u001b[0m \u001b[0mddof\u001b[0m\u001b[0;34m=\u001b[0m\u001b[0;36m1\u001b[0m\u001b[0;34m)\u001b[0m\u001b[0;34m\u001b[0m\u001b[0;34m\u001b[0m\u001b[0m\n\u001b[0m\u001b[1;32m   5255\u001b[0m     \u001b[0mv2\u001b[0m \u001b[0;34m=\u001b[0m \u001b[0mnp\u001b[0m\u001b[0;34m.\u001b[0m\u001b[0mvar\u001b[0m\u001b[0;34m(\u001b[0m\u001b[0mb\u001b[0m\u001b[0;34m,\u001b[0m \u001b[0maxis\u001b[0m\u001b[0;34m,\u001b[0m \u001b[0mddof\u001b[0m\u001b[0;34m=\u001b[0m\u001b[0;36m1\u001b[0m\u001b[0;34m)\u001b[0m\u001b[0;34m\u001b[0m\u001b[0;34m\u001b[0m\u001b[0m\n\u001b[1;32m   5256\u001b[0m     \u001b[0mn1\u001b[0m \u001b[0;34m=\u001b[0m \u001b[0ma\u001b[0m\u001b[0;34m.\u001b[0m\u001b[0mshape\u001b[0m\u001b[0;34m[\u001b[0m\u001b[0maxis\u001b[0m\u001b[0;34m]\u001b[0m\u001b[0;34m\u001b[0m\u001b[0;34m\u001b[0m\u001b[0m\n",
            "\u001b[0;32m<__array_function__ internals>\u001b[0m in \u001b[0;36mvar\u001b[0;34m(*args, **kwargs)\u001b[0m\n",
            "\u001b[0;32m/usr/local/lib/python3.6/dist-packages/numpy/core/fromnumeric.py\u001b[0m in \u001b[0;36mvar\u001b[0;34m(a, axis, dtype, out, ddof, keepdims)\u001b[0m\n\u001b[1;32m   3582\u001b[0m \u001b[0;34m\u001b[0m\u001b[0m\n\u001b[1;32m   3583\u001b[0m     return _methods._var(a, axis=axis, dtype=dtype, out=out, ddof=ddof,\n\u001b[0;32m-> 3584\u001b[0;31m                          **kwargs)\n\u001b[0m\u001b[1;32m   3585\u001b[0m \u001b[0;34m\u001b[0m\u001b[0m\n\u001b[1;32m   3586\u001b[0m \u001b[0;34m\u001b[0m\u001b[0m\n",
            "\u001b[0;32m/usr/local/lib/python3.6/dist-packages/numpy/core/_methods.py\u001b[0m in \u001b[0;36m_var\u001b[0;34m(a, axis, dtype, out, ddof, keepdims)\u001b[0m\n\u001b[1;32m    184\u001b[0m     \u001b[0;32mif\u001b[0m \u001b[0misinstance\u001b[0m\u001b[0;34m(\u001b[0m\u001b[0marrmean\u001b[0m\u001b[0;34m,\u001b[0m \u001b[0mmu\u001b[0m\u001b[0;34m.\u001b[0m\u001b[0mndarray\u001b[0m\u001b[0;34m)\u001b[0m\u001b[0;34m:\u001b[0m\u001b[0;34m\u001b[0m\u001b[0;34m\u001b[0m\u001b[0m\n\u001b[1;32m    185\u001b[0m         arrmean = um.true_divide(\n\u001b[0;32m--> 186\u001b[0;31m                 arrmean, rcount, out=arrmean, casting='unsafe', subok=False)\n\u001b[0m\u001b[1;32m    187\u001b[0m     \u001b[0;32melse\u001b[0m\u001b[0;34m:\u001b[0m\u001b[0;34m\u001b[0m\u001b[0;34m\u001b[0m\u001b[0m\n\u001b[1;32m    188\u001b[0m         \u001b[0marrmean\u001b[0m \u001b[0;34m=\u001b[0m \u001b[0marrmean\u001b[0m\u001b[0;34m.\u001b[0m\u001b[0mdtype\u001b[0m\u001b[0;34m.\u001b[0m\u001b[0mtype\u001b[0m\u001b[0;34m(\u001b[0m\u001b[0marrmean\u001b[0m \u001b[0;34m/\u001b[0m \u001b[0mrcount\u001b[0m\u001b[0;34m)\u001b[0m\u001b[0;34m\u001b[0m\u001b[0;34m\u001b[0m\u001b[0m\n",
            "\u001b[0;31mTypeError\u001b[0m: unsupported operand type(s) for /: 'DataFrame' and 'int'"
          ]
        }
      ]
    },
    {
      "cell_type": "code",
      "metadata": {
        "id": "-sb_RJFNnIho",
        "colab_type": "code",
        "colab": {}
      },
      "source": [
        ""
      ],
      "execution_count": 0,
      "outputs": []
    }
  ]
}